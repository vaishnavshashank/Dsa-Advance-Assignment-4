{
  "cells": [
    {
      "cell_type": "markdown",
      "source": [
        "# Breadth First Traversal for a Graph\n"
      ],
      "metadata": {
        "id": "aQ7OhRqC3rM0"
      }
    },
    {
      "cell_type": "code",
      "source": [
        "from collections import defaultdict\n",
        "\n",
        "# This class represents a directed graph\n",
        "# using adjacency list representation\n",
        "class Graph:\n",
        "\n",
        "\t# Constructor\n",
        "\tdef __init__(self):\n",
        "\n",
        "\t\t# default dictionary to store graph\n",
        "\t\tself.graph = defaultdict(list)\n",
        "\n",
        "\t# function to add an edge to graph\n",
        "\tdef addEdge(self,u,v):\n",
        "\t\tself.graph[u].append(v)\n",
        "\n",
        "\t# Function to print a BFS of graph\n",
        "\tdef BFS(self, s):\n",
        "\n",
        "\t\t# Mark all the vertices as not visited\n",
        "\t\tvisited = [False] * (max(self.graph) + 1)\n",
        "\n",
        "\t\t# Create a queue for BFS\n",
        "\t\tqueue = []\n",
        "\n",
        "\t\t# Mark the source node as\n",
        "\t\t# visited and enqueue it\n",
        "\t\tqueue.append(s)\n",
        "\t\tvisited[s] = True\n",
        "\n",
        "\t\twhile queue:\n",
        "\n",
        "\t\t\t# Dequeue a vertex from\n",
        "\t\t\t# queue and print it\n",
        "\t\t\ts = queue.pop(0)\n",
        "\t\t\tprint (s, end = \" \")\n",
        "\n",
        "\t\t\t# Get all adjacent vertices of the\n",
        "\t\t\t# dequeued vertex s. If a adjacent\n",
        "\t\t\t# has not been visited, then mark it\n",
        "\t\t\t# visited and enqueue it\n",
        "\t\t\tfor i in self.graph[s]:\n",
        "\t\t\t\tif visited[i] == False:\n",
        "\t\t\t\t\tqueue.append(i)\n",
        "\t\t\t\t\tvisited[i] = True\n",
        "\n",
        "# Driver code\n",
        "\n",
        "# Create a graph given in\n",
        "# the above diagram\n",
        "g = Graph()\n",
        "g.addEdge(0, 1)\n",
        "g.addEdge(0, 2)\n",
        "g.addEdge(1, 2)\n",
        "g.addEdge(2, 0)\n",
        "g.addEdge(2, 3)\n",
        "g.addEdge(3, 3)\n",
        "\n",
        "print (\"Following is Breadth First Traversal\"\n",
        "\t\t\t\t\" (starting from vertex 2)\")\n",
        "g.BFS(2)\n"
      ],
      "metadata": {
        "id": "v-lBjyI93rmT",
        "colab": {
          "base_uri": "https://localhost:8080/"
        },
        "outputId": "708cc73b-9e0e-44c8-c566-ba50f29f754e"
      },
      "execution_count": 7,
      "outputs": [
        {
          "output_type": "stream",
          "name": "stdout",
          "text": [
            "Following is Breadth First Traversal (starting from vertex 2)\n",
            "2 0 3 1 "
          ]
        }
      ]
    },
    {
      "cell_type": "markdown",
      "source": [
        "# Depth First Traversal for a Graph\n"
      ],
      "metadata": {
        "id": "z0dp4gTi3rzJ"
      }
    },
    {
      "cell_type": "code",
      "source": [
        "# Python3 program to print DFS traversal\n",
        "# from a given graph\n",
        "from collections import defaultdict\n",
        "\n",
        "# This class represents a directed graph using\n",
        "# adjacency list representation\n",
        "\n",
        "\n",
        "class Graph:\n",
        "\n",
        "\t# Constructor\n",
        "\tdef __init__(self):\n",
        "\n",
        "\t\t# default dictionary to store graph\n",
        "\t\tself.graph = defaultdict(list)\n",
        "\n",
        "\t# function to add an edge to graph\n",
        "\tdef addEdge(self, u, v):\n",
        "\t\tself.graph[u].append(v)\n",
        "\n",
        "\t# A function used by DFS\n",
        "\tdef DFSUtil(self, v, visited):\n",
        "\n",
        "\t\t# Mark the current node as visited\n",
        "\t\t# and print it\n",
        "\t\tvisited.add(v)\n",
        "\t\tprint(v, end=' ')\n",
        "\n",
        "\t\t# Recur for all the vertices\n",
        "\t\t# adjacent to this vertex\n",
        "\t\tfor neighbour in self.graph[v]:\n",
        "\t\t\tif neighbour not in visited:\n",
        "\t\t\t\tself.DFSUtil(neighbour, visited)\n",
        "\n",
        "\t# The function to do DFS traversal. It uses\n",
        "\t# recursive DFSUtil()\n",
        "\tdef DFS(self, v):\n",
        "\n",
        "\t\t# Create a set to store visited vertices\n",
        "\t\tvisited = set()\n",
        "\n",
        "\t\t# Call the recursive helper function\n",
        "\t\t# to print DFS traversal\n",
        "\t\tself.DFSUtil(v, visited)\n",
        "\n",
        "# Driver code\n",
        "\n",
        "\n",
        "# Create a graph given\n",
        "# in the above diagram\n",
        "g = Graph()\n",
        "g.addEdge(0, 1)\n",
        "g.addEdge(0, 2)\n",
        "g.addEdge(1, 2)\n",
        "g.addEdge(2, 0)\n",
        "g.addEdge(2, 3)\n",
        "g.addEdge(3, 3)\n",
        "\n",
        "print(\"Following is DFS from (starting from vertex 2)\")\n",
        "g.DFS(2)"
      ],
      "metadata": {
        "id": "8ISTxeho3sBZ",
        "colab": {
          "base_uri": "https://localhost:8080/"
        },
        "outputId": "83f85528-e4c5-4586-a676-fbd78f107351"
      },
      "execution_count": 3,
      "outputs": [
        {
          "output_type": "stream",
          "name": "stdout",
          "text": [
            "Following is DFS from (starting from vertex 2)\n",
            "2 0 1 3 "
          ]
        }
      ]
    },
    {
      "cell_type": "markdown",
      "source": [
        "# Count the number of nodes at given level in a tree using BFS\n",
        "\n",
        "\n"
      ],
      "metadata": {
        "id": "E4iFidYw3sNM"
      }
    },
    {
      "cell_type": "code",
      "source": [
        "# Python3 program to print\n",
        "# count of nodes at given level.\n",
        "from collections import deque\n",
        "\n",
        "adj = [[] for i in range(1001)]\n",
        "\n",
        "def addEdge(v, w):\n",
        "\t\n",
        "\t# Add w to v’s list.\n",
        "\tadj[v].append(w)\n",
        "\n",
        "\t# Add v to w's list.\n",
        "\tadj[w].append(v)\n",
        "\n",
        "def BFS(s, l):\n",
        "\t\n",
        "\tV = 100\n",
        "\t\n",
        "\t# Mark all the vertices\n",
        "\t# as not visited\n",
        "\tvisited = [False] * V\n",
        "\tlevel = [0] * V\n",
        "\n",
        "\tfor i in range(V):\n",
        "\t\tvisited[i] = False\n",
        "\t\tlevel[i] = 0\n",
        "\n",
        "\t# Create a queue for BFS\n",
        "\tqueue = deque()\n",
        "\n",
        "\t# Mark the current node as\n",
        "\t# visited and enqueue it\n",
        "\tvisited[s] = True\n",
        "\tqueue.append(s)\n",
        "\tlevel[s] = 0\n",
        "\n",
        "\twhile (len(queue) > 0):\n",
        "\t\t\n",
        "\t\t# Dequeue a vertex from\n",
        "\t\t# queue and print\n",
        "\t\ts = queue.popleft()\n",
        "\t\t#queue.pop_front()\n",
        "\n",
        "\t\t# Get all adjacent vertices\n",
        "\t\t# of the dequeued vertex s.\n",
        "\t\t# If a adjacent has not been\n",
        "\t\t# visited, then mark it\n",
        "\t\t# visited and enqueue it\n",
        "\t\tfor i in adj[s]:\n",
        "\t\t\tif (not visited[i]):\n",
        "\n",
        "\t\t\t\t# Setting the level\n",
        "\t\t\t\t# of each node with\n",
        "\t\t\t\t# an increment in the\n",
        "\t\t\t\t# level of parent node\n",
        "\t\t\t\tlevel[i] = level[s] + 1\n",
        "\t\t\t\tvisited[i] = True\n",
        "\t\t\t\tqueue.append(i)\n",
        "\n",
        "\tcount = 0\n",
        "\tfor i in range(V):\n",
        "\t\tif (level[i] == l):\n",
        "\t\t\tcount += 1\n",
        "\t\t\t\n",
        "\treturn count\n",
        "\n",
        "# Driver code\n",
        "if __name__ == '__main__':\n",
        "\t\n",
        "\t# Create a graph given\n",
        "\t# in the above diagram\n",
        "\taddEdge(0, 1)\n",
        "\taddEdge(0, 2)\n",
        "\taddEdge(1, 3)\n",
        "\taddEdge(2, 4)\n",
        "\taddEdge(2, 5)\n",
        "\n",
        "\tlevel = 2\n",
        "\n",
        "\tprint(BFS(0, level))"
      ],
      "metadata": {
        "id": "yfRHAjNe3saw",
        "colab": {
          "base_uri": "https://localhost:8080/"
        },
        "outputId": "b54d72d0-1520-42ba-8155-3e2b53885f84"
      },
      "execution_count": 5,
      "outputs": [
        {
          "output_type": "stream",
          "name": "stdout",
          "text": [
            "3\n"
          ]
        }
      ]
    },
    {
      "cell_type": "markdown",
      "source": [
        "# Count number of trees in a forest\n"
      ],
      "metadata": {
        "id": "7BXSA6NP3szE"
      }
    },
    {
      "cell_type": "code",
      "source": [
        "# Python3 program to count number\n",
        "# of trees in a forest.\n",
        "\n",
        "# A utility function to add an\n",
        "# edge in an undirected graph.\n",
        "def addEdge(adj, u, v):\n",
        "\tadj[u].append(v)\n",
        "\tadj[v].append(u)\n",
        "\n",
        "# A utility function to do DFS of graph\n",
        "# recursively from a given vertex u.\n",
        "def DFSUtil(u, adj, visited):\n",
        "\tvisited[u] = True\n",
        "\tfor i in range(len(adj[u])):\n",
        "\t\tif (visited[adj[u][i]] == False):\n",
        "\t\t\tDFSUtil(adj[u][i], adj, visited)\n",
        "\n",
        "# Returns count of tree is the\n",
        "# forest given as adjacency list.\n",
        "def countTrees(adj, V):\n",
        "\tvisited = [False] * V\n",
        "\tres = 0\n",
        "\tfor u in range(V):\n",
        "\t\tif (visited[u] == False):\n",
        "\t\t\tDFSUtil(u, adj, visited)\n",
        "\t\t\tres += 1\n",
        "\treturn res\n",
        "\n",
        "# Driver code\n",
        "if __name__ == '__main__':\n",
        "\n",
        "\tV = 5\n",
        "\tadj = [[] for i in range(V)]\n",
        "\taddEdge(adj, 0, 1)\n",
        "\taddEdge(adj, 0, 2)\n",
        "\taddEdge(adj, 3, 4)\n",
        "\tprint(countTrees(adj, V))"
      ],
      "metadata": {
        "id": "ewxmnMKe3tAz",
        "colab": {
          "base_uri": "https://localhost:8080/"
        },
        "outputId": "8304b96a-00dc-48cd-8ccb-861c136a5d9c"
      },
      "execution_count": 6,
      "outputs": [
        {
          "output_type": "stream",
          "name": "stdout",
          "text": [
            "2\n"
          ]
        }
      ]
    },
    {
      "cell_type": "markdown",
      "source": [
        "\n",
        "# Detect Cycle in a Directed Graph\n"
      ],
      "metadata": {
        "id": "_MvtEzCV3eL8"
      }
    },
    {
      "cell_type": "code",
      "source": [
        "# Python program to detect cycle\n",
        "# in a graph\n",
        "\n",
        "from collections import defaultdict\n",
        "\n",
        "class Graph():\n",
        "\tdef __init__(self,vertices):\n",
        "\t\tself.graph = defaultdict(list)\n",
        "\t\tself.V = vertices\n",
        "\n",
        "\tdef addEdge(self,u,v):\n",
        "\t\tself.graph[u].append(v)\n",
        "\n",
        "\tdef isCyclicUtil(self, v, visited, recStack):\n",
        "\n",
        "\t\t# Mark current node as visited and\n",
        "\t\t# adds to recursion stack\n",
        "\t\tvisited[v] = True\n",
        "\t\trecStack[v] = True\n",
        "\n",
        "\t\t# Recur for all neighbours\n",
        "\t\t# if any neighbour is visited and in\n",
        "\t\t# recStack then graph is cyclic\n",
        "\t\tfor neighbour in self.graph[v]:\n",
        "\t\t\tif visited[neighbour] == False:\n",
        "\t\t\t\tif self.isCyclicUtil(neighbour, visited, recStack) == True:\n",
        "\t\t\t\t\treturn True\n",
        "\t\t\telif recStack[neighbour] == True:\n",
        "\t\t\t\treturn True\n",
        "\n",
        "\t\t# The node needs to be popped from\n",
        "\t\t# recursion stack before function ends\n",
        "\t\trecStack[v] = False\n",
        "\t\treturn False\n",
        "\n",
        "\t# Returns true if graph is cyclic else false\n",
        "\tdef isCyclic(self):\n",
        "\t\tvisited = [False] * (self.V + 1)\n",
        "\t\trecStack = [False] * (self.V + 1)\n",
        "\t\tfor node in range(self.V):\n",
        "\t\t\tif visited[node] == False:\n",
        "\t\t\t\tif self.isCyclicUtil(node,visited,recStack) == True:\n",
        "\t\t\t\t\treturn True\n",
        "\t\treturn False\n",
        "\n",
        "g = Graph(4)\n",
        "g.addEdge(0, 1)\n",
        "g.addEdge(0, 2)\n",
        "g.addEdge(1, 2)\n",
        "g.addEdge(2, 0)\n",
        "g.addEdge(2, 3)\n",
        "g.addEdge(3, 3)\n",
        "if g.isCyclic() == 1:\n",
        "\tprint \"Graph has a cycle\"\n",
        "else:\n",
        "\tprint \"Graph has no cycle\""
      ],
      "metadata": {
        "id": "gFnlGN9c3dqs"
      },
      "execution_count": null,
      "outputs": []
    },
    {
      "cell_type": "markdown",
      "source": [
        "# Implement n-Queen’s Problem\n"
      ],
      "metadata": {
        "id": "uDia_NfP5kWG"
      }
    },
    {
      "cell_type": "code",
      "source": [
        "# Python3 program to solve N Queen\n",
        "# Problem using backtracking\n",
        "global N\n",
        "N = 4\n",
        "\n",
        "def printSolution(board):\n",
        "\tfor i in range(N):\n",
        "\t\tfor j in range(N):\n",
        "\t\t\tprint(board[i][j], end = \" \")\n",
        "\t\tprint()\n",
        "\n",
        "# A utility function to check if a queen can\n",
        "# be placed on board[row][col]. Note that this\n",
        "# function is called when \"col\" queens are\n",
        "# already placed in columns from 0 to col -1.\n",
        "# So we need to check only left side for\n",
        "# attacking queens\n",
        "def isSafe(board, row, col):\n",
        "\n",
        "\t# Check this row on left side\n",
        "\tfor i in range(col):\n",
        "\t\tif board[row][i] == 1:\n",
        "\t\t\treturn False\n",
        "\n",
        "\t# Check upper diagonal on left side\n",
        "\tfor i, j in zip(range(row, -1, -1),\n",
        "\t\t\t\t\trange(col, -1, -1)):\n",
        "\t\tif board[i][j] == 1:\n",
        "\t\t\treturn False\n",
        "\n",
        "\t# Check lower diagonal on left side\n",
        "\tfor i, j in zip(range(row, N, 1),\n",
        "\t\t\t\t\trange(col, -1, -1)):\n",
        "\t\tif board[i][j] == 1:\n",
        "\t\t\treturn False\n",
        "\n",
        "\treturn True\n",
        "\n",
        "def solveNQUtil(board, col):\n",
        "\t\n",
        "\t# base case: If all queens are placed\n",
        "\t# then return true\n",
        "\tif col >= N:\n",
        "\t\treturn True\n",
        "\n",
        "\t# Consider this column and try placing\n",
        "\t# this queen in all rows one by one\n",
        "\tfor i in range(N):\n",
        "\n",
        "\t\tif isSafe(board, i, col):\n",
        "\t\t\t\n",
        "\t\t\t# Place this queen in board[i][col]\n",
        "\t\t\tboard[i][col] = 1\n",
        "\n",
        "\t\t\t# recur to place rest of the queens\n",
        "\t\t\tif solveNQUtil(board, col + 1) == True:\n",
        "\t\t\t\treturn True\n",
        "\n",
        "\t\t\t# If placing queen in board[i][col\n",
        "\t\t\t# doesn't lead to a solution, then\n",
        "\t\t\t# queen from board[i][col]\n",
        "\t\t\tboard[i][col] = 0\n",
        "\n",
        "\t# if the queen can not be placed in any row in\n",
        "\t# this column col then return false\n",
        "\treturn False\n",
        "\n",
        "def solveNQ():\n",
        "\tboard = [ [0, 0, 0, 0],\n",
        "\t\t\t[0, 0, 0, 0],\n",
        "\t\t\t[0, 0, 0, 0],\n",
        "\t\t\t[0, 0, 0, 0] ]\n",
        "\n",
        "\tif solveNQUtil(board, 0) == False:\n",
        "\t\tprint (\"Solution does not exist\")\n",
        "\t\treturn False\n",
        "\n",
        "\tprintSolution(board)\n",
        "\treturn True\n",
        "\n",
        "# Driver Code\n",
        "solveNQ()"
      ],
      "metadata": {
        "id": "6TZkePRV3dsM",
        "colab": {
          "base_uri": "https://localhost:8080/"
        },
        "outputId": "902d5822-cb27-4d63-b967-04db65236ccf"
      },
      "execution_count": 1,
      "outputs": [
        {
          "output_type": "stream",
          "name": "stdout",
          "text": [
            "0 0 1 0 \n",
            "1 0 0 0 \n",
            "0 0 0 1 \n",
            "0 1 0 0 \n"
          ]
        },
        {
          "output_type": "execute_result",
          "data": {
            "text/plain": [
              "True"
            ]
          },
          "metadata": {},
          "execution_count": 1
        }
      ]
    },
    {
      "cell_type": "code",
      "source": [],
      "metadata": {
        "id": "oLCnD5FN3dt-"
      },
      "execution_count": null,
      "outputs": []
    },
    {
      "cell_type": "code",
      "source": [],
      "metadata": {
        "id": "-JnPyrdN3dvs"
      },
      "execution_count": null,
      "outputs": []
    },
    {
      "cell_type": "code",
      "source": [],
      "metadata": {
        "id": "lS79pRnf3dxF"
      },
      "execution_count": null,
      "outputs": []
    },
    {
      "cell_type": "code",
      "source": [],
      "metadata": {
        "id": "G4flZ_HH3dy4"
      },
      "execution_count": null,
      "outputs": []
    },
    {
      "cell_type": "code",
      "source": [],
      "metadata": {
        "id": "Z_WzY5hk3d0L"
      },
      "execution_count": null,
      "outputs": []
    },
    {
      "cell_type": "code",
      "source": [],
      "metadata": {
        "id": "RCW36U2V3d4Z"
      },
      "execution_count": null,
      "outputs": []
    }
  ],
  "metadata": {
    "colab": {
      "collapsed_sections": [],
      "name": "DSA Advanced Assignment-4: Graphs",
      "provenance": []
    },
    "kernelspec": {
      "display_name": "Python 3",
      "name": "python3"
    }
  },
  "nbformat": 4,
  "nbformat_minor": 0
}